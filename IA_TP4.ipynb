{
  "nbformat": 4,
  "nbformat_minor": 0,
  "metadata": {
    "colab": {
      "provenance": [],
      "authorship_tag": "ABX9TyM/T+Smsax35xRPhaOgHVH2",
      "include_colab_link": true
    },
    "kernelspec": {
      "name": "ir",
      "display_name": "R"
    },
    "language_info": {
      "name": "R"
    }
  },
  "cells": [
    {
      "cell_type": "markdown",
      "metadata": {
        "id": "view-in-github",
        "colab_type": "text"
      },
      "source": [
        "<a href=\"https://colab.research.google.com/github/Melisa7L/FIA_2023_Lino/blob/main/IA_TP4.ipynb\" target=\"_parent\"><img src=\"https://colab.research.google.com/assets/colab-badge.svg\" alt=\"Open In Colab\"/></a>"
      ]
    },
    {
      "cell_type": "code",
      "execution_count": null,
      "metadata": {
        "colab": {
          "base_uri": "https://localhost:8080/"
        },
        "id": "QmQm_iaNtN1a",
        "outputId": "3cf3d520-1326-4f25-c513-8448b72a6412"
      },
      "outputs": [
        {
          "output_type": "stream",
          "name": "stderr",
          "text": [
            "Installing package into ‘/usr/local/lib/R/site-library’\n",
            "(as ‘lib’ is unspecified)\n",
            "\n"
          ]
        }
      ],
      "source": [
        "install.packages(\"randomForest\")"
      ]
    },
    {
      "cell_type": "markdown",
      "source": [
        "Importamos la libreria"
      ],
      "metadata": {
        "id": "N0KHK8W_wkQ5"
      }
    },
    {
      "cell_type": "code",
      "source": [
        "library('randomForest')"
      ],
      "metadata": {
        "colab": {
          "base_uri": "https://localhost:8080/"
        },
        "id": "iKYXLR-2wsOU",
        "outputId": "560de34a-66c9-4ed2-f7b5-1b087743522a"
      },
      "execution_count": null,
      "outputs": [
        {
          "output_type": "stream",
          "name": "stderr",
          "text": [
            "randomForest 4.7-1.1\n",
            "\n",
            "Type rfNews() to see new features/changes/bug fixes.\n",
            "\n"
          ]
        }
      ]
    },
    {
      "cell_type": "markdown",
      "source": [
        "Cargamos los archivos del tp anterior"
      ],
      "metadata": {
        "id": "hCMqyNnBxep0"
      }
    },
    {
      "cell_type": "code",
      "source": [
        "load('/content/Diagonal.Rdata')\n",
        "load('/content/Indices_test.Rdata')\n",
        "load('/content/Indices_train.Rdata')\n",
        "load('/content/errorC.Rdata')"
      ],
      "metadata": {
        "id": "BIRPSoynxg36"
      },
      "execution_count": null,
      "outputs": []
    },
    {
      "cell_type": "code",
      "source": [
        "ls()"
      ],
      "metadata": {
        "colab": {
          "base_uri": "https://localhost:8080/",
          "height": 34
        },
        "id": "av6FRPxIx_WP",
        "outputId": "d1996026-3a7b-49eb-fd3d-7b5802393fde"
      },
      "execution_count": null,
      "outputs": [
        {
          "output_type": "display_data",
          "data": {
            "text/html": [
              "<style>\n",
              ".list-inline {list-style: none; margin:0; padding: 0}\n",
              ".list-inline>li {display: inline-block}\n",
              ".list-inline>li:not(:last-child)::after {content: \"\\00b7\"; padding: 0 .5ex}\n",
              "</style>\n",
              "<ol class=list-inline><li>'diagonal'</li><li>'ErrorC'</li><li>'indices_test'</li><li>'indices_train'</li></ol>\n"
            ],
            "text/markdown": "1. 'diagonal'\n2. 'ErrorC'\n3. 'indices_test'\n4. 'indices_train'\n\n\n",
            "text/latex": "\\begin{enumerate*}\n\\item 'diagonal'\n\\item 'ErrorC'\n\\item 'indices\\_test'\n\\item 'indices\\_train'\n\\end{enumerate*}\n",
            "text/plain": [
              "[1] \"diagonal\"      \"ErrorC\"        \"indices_test\"  \"indices_train\""
            ]
          },
          "metadata": {}
        }
      ]
    },
    {
      "cell_type": "markdown",
      "source": [
        "Creamos las estructuras de datos que vamos a necesitar"
      ],
      "metadata": {
        "id": "Tewu8JSLzTBI"
      }
    },
    {
      "cell_type": "code",
      "source": [
        "indices<-c(1:800)\n",
        "modelosRF<-list()\n",
        "ErroresCRF<-array()\n",
        "prediccionesRF<-list()"
      ],
      "metadata": {
        "id": "YWOu_OuKzYUU"
      },
      "execution_count": null,
      "outputs": []
    },
    {
      "cell_type": "code",
      "source": [
        "for (i in 1:100){\n",
        "diagonal_test<-diagonal[indices_test[[i]],]\n",
        "diagonal_train<-diagonal[indices_train[[i]],]\n",
        "#hold out 50% para test 50% para train\n",
        "modelosRF[[i]]<-randomForest(diagonal_train[,-3], as.factor(diagonal_train[,3]),diagonal_test[,-3],as.factor(diagonal_test[,3]), norm.votes=FALSE,ntree=1000)\n",
        "prediccionesRF[[i]]<-modelosRF[[i]]$test$predicted\n",
        "#Entrenamiento\n",
        "ErroresCRF[i]<-sum(prediccionesRF[[i]] != diagonal_test[,3])/length(diagonal_test[,3])\n",
        "#calculamos el error\n",
        "}"
      ],
      "metadata": {
        "id": "y7vPvPP27OeK"
      },
      "execution_count": null,
      "outputs": []
    },
    {
      "cell_type": "code",
      "source": [
        "# Agrega estos comandos de impresión para depurar\n",
        "print(dim(diagonal_train))\n",
        "print(dim(diagonal_test))\n",
        "print(head(diagonal_train))\n",
        "print(head(diagonal_test))\n"
      ],
      "metadata": {
        "colab": {
          "base_uri": "https://localhost:8080/"
        },
        "id": "fxWANXCUOwOS",
        "outputId": "ad4a0451-17d2-4edf-8e6e-eb320fd757d2"
      },
      "execution_count": null,
      "outputs": [
        {
          "output_type": "stream",
          "name": "stdout",
          "text": [
            "[1] 400   3\n",
            "[1] 400   3\n",
            "         [,1]     [,2] [,3]\n",
            "[1,] 4.439524 3.926444    1\n",
            "[2,] 4.769823 2.831349    1\n",
            "[3,] 5.129288 4.670696    1\n",
            "[4,] 4.554338 4.227292    1\n",
            "[5,] 5.359814 4.267835    1\n",
            "[6,] 5.400771 4.653258    1\n",
            "         [,1]     [,2] [,3]\n",
            "[1,] 5.020984 4.420574    1\n",
            "[2,] 5.298228 4.101079    1\n",
            "[3,] 3.451247 5.110277    1\n",
            "[4,] 4.647954 5.441462    1\n",
            "[5,] 4.954972 3.904853    1\n",
            "[6,] 5.769042 3.217798    1\n"
          ]
        }
      ]
    },
    {
      "cell_type": "code",
      "source": [
        "ErrorCmedioRF<-mean(ErroresCRF)"
      ],
      "metadata": {
        "id": "LFNngNxbb529"
      },
      "execution_count": null,
      "outputs": []
    },
    {
      "cell_type": "code",
      "source": [
        "ErrorCmedioRF"
      ],
      "metadata": {
        "id": "vo4cHqcocDkJ",
        "colab": {
          "base_uri": "https://localhost:8080/",
          "height": 34
        },
        "outputId": "52018bbe-889b-4890-c70c-35cf767aba66"
      },
      "execution_count": null,
      "outputs": [
        {
          "output_type": "display_data",
          "data": {
            "text/html": [
              "0.047425"
            ],
            "text/markdown": "0.047425",
            "text/latex": "0.047425",
            "text/plain": [
              "[1] 0.047425"
            ]
          },
          "metadata": {}
        }
      ]
    },
    {
      "cell_type": "code",
      "source": [
        "ls()"
      ],
      "metadata": {
        "id": "BVP2_CXkcHoc",
        "colab": {
          "base_uri": "https://localhost:8080/",
          "height": 34
        },
        "outputId": "c8a45943-c28d-4121-e211-18713f813872"
      },
      "execution_count": null,
      "outputs": [
        {
          "output_type": "display_data",
          "data": {
            "text/html": [
              "<style>\n",
              ".list-inline {list-style: none; margin:0; padding: 0}\n",
              ".list-inline>li {display: inline-block}\n",
              ".list-inline>li:not(:last-child)::after {content: \"\\00b7\"; padding: 0 .5ex}\n",
              "</style>\n",
              "<ol class=list-inline><li>'diagonal'</li><li>'diagonal_test'</li><li>'diagonal_train'</li><li>'ErrorC'</li><li>'ErrorCmedioRF'</li><li>'ErroresCRF'</li><li>'i'</li><li>'indices'</li><li>'indices_test'</li><li>'indices_train'</li><li>'modelosRF'</li><li>'prediccionesRF'</li></ol>\n"
            ],
            "text/markdown": "1. 'diagonal'\n2. 'diagonal_test'\n3. 'diagonal_train'\n4. 'ErrorC'\n5. 'ErrorCmedioRF'\n6. 'ErroresCRF'\n7. 'i'\n8. 'indices'\n9. 'indices_test'\n10. 'indices_train'\n11. 'modelosRF'\n12. 'prediccionesRF'\n\n\n",
            "text/latex": "\\begin{enumerate*}\n\\item 'diagonal'\n\\item 'diagonal\\_test'\n\\item 'diagonal\\_train'\n\\item 'ErrorC'\n\\item 'ErrorCmedioRF'\n\\item 'ErroresCRF'\n\\item 'i'\n\\item 'indices'\n\\item 'indices\\_test'\n\\item 'indices\\_train'\n\\item 'modelosRF'\n\\item 'prediccionesRF'\n\\end{enumerate*}\n",
            "text/plain": [
              " [1] \"diagonal\"       \"diagonal_test\"  \"diagonal_train\" \"ErrorC\"        \n",
              " [5] \"ErrorCmedioRF\"  \"ErroresCRF\"     \"i\"              \"indices\"       \n",
              " [9] \"indices_test\"   \"indices_train\"  \"modelosRF\"      \"prediccionesRF\""
            ]
          },
          "metadata": {}
        }
      ]
    },
    {
      "cell_type": "code",
      "source": [
        "mean(ErrorC)"
      ],
      "metadata": {
        "id": "gp11oKJWcJe7",
        "colab": {
          "base_uri": "https://localhost:8080/",
          "height": 34
        },
        "outputId": "3f1b09db-bedc-4ce0-ea5a-ec886aab0446"
      },
      "execution_count": null,
      "outputs": [
        {
          "output_type": "display_data",
          "data": {
            "text/html": [
              "0.041825"
            ],
            "text/markdown": "0.041825",
            "text/latex": "0.041825",
            "text/plain": [
              "[1] 0.041825"
            ]
          },
          "metadata": {}
        }
      ]
    },
    {
      "cell_type": "code",
      "source": [
        "save(modelosRF,file=\"modelosRF.Rdata\")\n",
        "save(ErroresCRF,file=\"erroresCRF.Rdata\")"
      ],
      "metadata": {
        "id": "vypyjcP0pO8N"
      },
      "execution_count": null,
      "outputs": []
    },
    {
      "cell_type": "code",
      "source": [
        "ErroresCRF"
      ],
      "metadata": {
        "colab": {
          "base_uri": "https://localhost:8080/",
          "height": 86
        },
        "id": "4zp-l-GXqJdS",
        "outputId": "b8909276-24cf-4cf4-c3f1-4c3f2032e4b0"
      },
      "execution_count": null,
      "outputs": [
        {
          "output_type": "display_data",
          "data": {
            "text/html": [
              "<style>\n",
              ".list-inline {list-style: none; margin:0; padding: 0}\n",
              ".list-inline>li {display: inline-block}\n",
              ".list-inline>li:not(:last-child)::after {content: \"\\00b7\"; padding: 0 .5ex}\n",
              "</style>\n",
              "<ol class=list-inline><li>0.04</li><li>0.05</li><li>0.0525</li><li>0.045</li><li>0.0475</li><li>0.0475</li><li>0.0525</li><li>0.04</li><li>0.045</li><li>0.035</li><li>0.055</li><li>0.0525</li><li>0.0525</li><li>0.055</li><li>0.0575</li><li>0.0525</li><li>0.0575</li><li>0.0425</li><li>0.05</li><li>0.04</li><li>0.045</li><li>0.055</li><li>0.04</li><li>0.05</li><li>0.045</li><li>0.045</li><li>0.0575</li><li>0.0525</li><li>0.04</li><li>0.05</li><li>0.05</li><li>0.0525</li><li>0.045</li><li>0.0325</li><li>0.05</li><li>0.05</li><li>0.04</li><li>0.05</li><li>0.0325</li><li>0.045</li><li>0.05</li><li>0.0525</li><li>0.0425</li><li>0.045</li><li>0.04</li><li>0.045</li><li>0.0425</li><li>0.06</li><li>0.0425</li><li>0.05</li><li>0.0475</li><li>0.04</li><li>0.0475</li><li>0.0375</li><li>0.0475</li><li>0.0425</li><li>0.0325</li><li>0.04</li><li>0.0575</li><li>0.0425</li><li>0.0425</li><li>0.0525</li><li>0.0625</li><li>0.0525</li><li>0.06</li><li>0.0425</li><li>0.0525</li><li>0.055</li><li>0.055</li><li>0.0575</li><li>0.0425</li><li>0.0475</li><li>0.0375</li><li>0.0475</li><li>0.0475</li><li>0.06</li><li>0.06</li><li>0.045</li><li>0.035</li><li>0.065</li><li>0.0575</li><li>0.0425</li><li>0.0375</li><li>0.04</li><li>0.04</li><li>0.05</li><li>0.0425</li><li>0.0575</li><li>0.0375</li><li>0.045</li><li>0.045</li><li>0.0475</li><li>0.05</li><li>0.0525</li><li>0.0475</li><li>0.04</li><li>0.04</li><li>0.045</li><li>0.0575</li><li>0.045</li></ol>\n"
            ],
            "text/markdown": "1. 0.04\n2. 0.05\n3. 0.0525\n4. 0.045\n5. 0.0475\n6. 0.0475\n7. 0.0525\n8. 0.04\n9. 0.045\n10. 0.035\n11. 0.055\n12. 0.0525\n13. 0.0525\n14. 0.055\n15. 0.0575\n16. 0.0525\n17. 0.0575\n18. 0.0425\n19. 0.05\n20. 0.04\n21. 0.045\n22. 0.055\n23. 0.04\n24. 0.05\n25. 0.045\n26. 0.045\n27. 0.0575\n28. 0.0525\n29. 0.04\n30. 0.05\n31. 0.05\n32. 0.0525\n33. 0.045\n34. 0.0325\n35. 0.05\n36. 0.05\n37. 0.04\n38. 0.05\n39. 0.0325\n40. 0.045\n41. 0.05\n42. 0.0525\n43. 0.0425\n44. 0.045\n45. 0.04\n46. 0.045\n47. 0.0425\n48. 0.06\n49. 0.0425\n50. 0.05\n51. 0.0475\n52. 0.04\n53. 0.0475\n54. 0.0375\n55. 0.0475\n56. 0.0425\n57. 0.0325\n58. 0.04\n59. 0.0575\n60. 0.0425\n61. 0.0425\n62. 0.0525\n63. 0.0625\n64. 0.0525\n65. 0.06\n66. 0.0425\n67. 0.0525\n68. 0.055\n69. 0.055\n70. 0.0575\n71. 0.0425\n72. 0.0475\n73. 0.0375\n74. 0.0475\n75. 0.0475\n76. 0.06\n77. 0.06\n78. 0.045\n79. 0.035\n80. 0.065\n81. 0.0575\n82. 0.0425\n83. 0.0375\n84. 0.04\n85. 0.04\n86. 0.05\n87. 0.0425\n88. 0.0575\n89. 0.0375\n90. 0.045\n91. 0.045\n92. 0.0475\n93. 0.05\n94. 0.0525\n95. 0.0475\n96. 0.04\n97. 0.04\n98. 0.045\n99. 0.0575\n100. 0.045\n\n\n",
            "text/latex": "\\begin{enumerate*}\n\\item 0.04\n\\item 0.05\n\\item 0.0525\n\\item 0.045\n\\item 0.0475\n\\item 0.0475\n\\item 0.0525\n\\item 0.04\n\\item 0.045\n\\item 0.035\n\\item 0.055\n\\item 0.0525\n\\item 0.0525\n\\item 0.055\n\\item 0.0575\n\\item 0.0525\n\\item 0.0575\n\\item 0.0425\n\\item 0.05\n\\item 0.04\n\\item 0.045\n\\item 0.055\n\\item 0.04\n\\item 0.05\n\\item 0.045\n\\item 0.045\n\\item 0.0575\n\\item 0.0525\n\\item 0.04\n\\item 0.05\n\\item 0.05\n\\item 0.0525\n\\item 0.045\n\\item 0.0325\n\\item 0.05\n\\item 0.05\n\\item 0.04\n\\item 0.05\n\\item 0.0325\n\\item 0.045\n\\item 0.05\n\\item 0.0525\n\\item 0.0425\n\\item 0.045\n\\item 0.04\n\\item 0.045\n\\item 0.0425\n\\item 0.06\n\\item 0.0425\n\\item 0.05\n\\item 0.0475\n\\item 0.04\n\\item 0.0475\n\\item 0.0375\n\\item 0.0475\n\\item 0.0425\n\\item 0.0325\n\\item 0.04\n\\item 0.0575\n\\item 0.0425\n\\item 0.0425\n\\item 0.0525\n\\item 0.0625\n\\item 0.0525\n\\item 0.06\n\\item 0.0425\n\\item 0.0525\n\\item 0.055\n\\item 0.055\n\\item 0.0575\n\\item 0.0425\n\\item 0.0475\n\\item 0.0375\n\\item 0.0475\n\\item 0.0475\n\\item 0.06\n\\item 0.06\n\\item 0.045\n\\item 0.035\n\\item 0.065\n\\item 0.0575\n\\item 0.0425\n\\item 0.0375\n\\item 0.04\n\\item 0.04\n\\item 0.05\n\\item 0.0425\n\\item 0.0575\n\\item 0.0375\n\\item 0.045\n\\item 0.045\n\\item 0.0475\n\\item 0.05\n\\item 0.0525\n\\item 0.0475\n\\item 0.04\n\\item 0.04\n\\item 0.045\n\\item 0.0575\n\\item 0.045\n\\end{enumerate*}\n",
            "text/plain": [
              "  [1] 0.0400 0.0500 0.0525 0.0450 0.0475 0.0475 0.0525 0.0400 0.0450 0.0350\n",
              " [11] 0.0550 0.0525 0.0525 0.0550 0.0575 0.0525 0.0575 0.0425 0.0500 0.0400\n",
              " [21] 0.0450 0.0550 0.0400 0.0500 0.0450 0.0450 0.0575 0.0525 0.0400 0.0500\n",
              " [31] 0.0500 0.0525 0.0450 0.0325 0.0500 0.0500 0.0400 0.0500 0.0325 0.0450\n",
              " [41] 0.0500 0.0525 0.0425 0.0450 0.0400 0.0450 0.0425 0.0600 0.0425 0.0500\n",
              " [51] 0.0475 0.0400 0.0475 0.0375 0.0475 0.0425 0.0325 0.0400 0.0575 0.0425\n",
              " [61] 0.0425 0.0525 0.0625 0.0525 0.0600 0.0425 0.0525 0.0550 0.0550 0.0575\n",
              " [71] 0.0425 0.0475 0.0375 0.0475 0.0475 0.0600 0.0600 0.0450 0.0350 0.0650\n",
              " [81] 0.0575 0.0425 0.0375 0.0400 0.0400 0.0500 0.0425 0.0575 0.0375 0.0450\n",
              " [91] 0.0450 0.0475 0.0500 0.0525 0.0475 0.0400 0.0400 0.0450 0.0575 0.0450"
            ]
          },
          "metadata": {}
        }
      ]
    }
  ]
}